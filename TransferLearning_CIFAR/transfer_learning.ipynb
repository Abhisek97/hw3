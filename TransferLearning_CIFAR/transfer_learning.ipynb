{
 "cells": [
  {
   "cell_type": "code",
   "execution_count": 2,
   "metadata": {
    "collapsed": true
   },
   "outputs": [],
   "source": [
    "import torch\n",
    "import numpy as np\n",
    "import matplotlib.pyplot as plt\n",
    "import pickle\n",
    "from tqdm import tqdm"
   ]
  },
  {
   "cell_type": "code",
   "execution_count": 3,
   "metadata": {
    "collapsed": true
   },
   "outputs": [],
   "source": [
    "# DATA PARSING\n",
    "# If this is running on GPU cluster, no change required \n",
    "# Otherwise, download CIFAR-10 dataset from https://www.cs.toronto.edu/~kriz/cifar-10-python.tar.gz and set path\n",
    "path='../../../../CIFAR-10/cifar-10-batches-py/'\n",
    "data=np.zeros((0,32,32,3))\n",
    "labels=[]\n",
    "for i in range(1,6):\n",
    "    with open(path+'data_batch_'+str(i), 'rb') as fo:\n",
    "        dat = pickle.load(fo)\n",
    "        r = dat['data'][:,:1024*1].reshape((10000,32,32,1))\n",
    "        g = dat['data'][:,1024:2048].reshape((10000,32,32,1))\n",
    "        b = dat['data'][:,2048:3072].reshape((10000,32,32,1))\n",
    "        rgb = np.concatenate((r,g,b),axis=3)\n",
    "        data = np.vstack((data,np.float32(rgb)/255))\n",
    "        labels += dat['labels']\n",
    "labels = np.array(labels)\n",
    "# data -> 50000 X 32 X 32 X 3 array with training data\n",
    "# labels -> 50000 labels ranging from 0 to 9"
   ]
  },
  {
   "cell_type": "markdown",
   "metadata": {},
   "source": [
    "<b>[2 points]</b> Plot 3 random images corresponding to each label from the training data and indicate the name of the class label."
   ]
  },
  {
   "cell_type": "markdown",
   "metadata": {},
   "source": [
    "<b>[0 points]</b> Now, we perform some pre-processing operations to get our training datasets.\n",
    "\n",
    "1. Split the data and labels into 2 sets, first one containing labels 0 to 4, and second one from 5 to 9. \n",
    "2. Generate one hot encoded targets based on the labels for the 2 sets.\n",
    "3. Store them in data1, labels1, data2 and labels2."
   ]
  },
  {
   "cell_type": "code",
   "execution_count": 4,
   "metadata": {
    "collapsed": true
   },
   "outputs": [],
   "source": [
    "data1 = np.zeros((0,32,32,3))\n",
    "labels1 = []\n",
    "data2 = np.zeros((0,32,32,3))\n",
    "labels2 = []\n",
    "for i in range(5):\n",
    "    x = data[labels==i]\n",
    "    data1 = np.vstack((data1,x))\n",
    "    labels1 += [i]*len(x)\n",
    "for i in range(5,10):\n",
    "    x = data[labels==i]\n",
    "    data2 = np.vstack((data2,x))\n",
    "    labels2 += [i-5]*len(x)\n",
    "labels1 = np.array(labels1)\n",
    "labels2 = np.array(labels2)\n",
    "\n",
    "temp = np.zeros((len(labels1),5))\n",
    "for i in range(len(labels1)):\n",
    "    temp[i,labels1[i]] = 1\n",
    "labels1 = temp\n",
    "temp = np.zeros((len(labels2),5))\n",
    "for i in range(len(labels2)):\n",
    "    temp[i,labels2[i]] = 1\n",
    "labels2 = temp\n",
    "\n",
    "torch_data1 = data1.transpose((0,3,1,2))\n",
    "torch_data2 = data2.transpose((0,3,1,2))"
   ]
  },
  {
   "cell_type": "markdown",
   "metadata": {},
   "source": [
    "<b>[3 points]</b> Create a simple convolutional network to classify the training data. The network structure should be as follows:\n",
    "1. Layer 1 - Kernel size 4, Stride 2, Output channels 5, Bias enabled, Relu activation\n",
    "2. Layer 2 - Kernel size 4, Stride 1, Output channels 10, Bias enabled, Relu avtication\n",
    "3. Layer 3 - Kernel size 4, Stride 1, Output channels 20, Bias enabled, Relu activation\n",
    "4. Layer 4 - Kernel size 4, Stride 1, Output channels 40, Bias enabled, Relu activation\n",
    "5. Layer 5 - Fully connected layer followed by Sigmoid activation\n",
    "\n",
    "Refer to https://github.com/ameykusurkar/pytorch-image-classifier/blob/master/main.py for help from this section onwards, but note that torchvision.transforms is not required since we already have the data in the required format."
   ]
  },
  {
   "cell_type": "code",
   "execution_count": 28,
   "metadata": {
    "collapsed": true
   },
   "outputs": [],
   "source": [
    "import torch.nn as nn\n",
    "import torch.nn.functional as F\n",
    "import torch.optim as optim\n",
    "from torch.autograd import Variable\n",
    "\n",
    "n=5\n",
    "class Net(nn.Module):\n",
    "    def __init__(self):\n",
    "        super(Net, self).__init__()\n",
    "        self.conv1 = YOUR CODE HERE\n",
    "        self.conv2 = YOUR CODE HERE\n",
    "        self.conv3 = YOUR CODE HERE\n",
    "        self.conv4 = YOUR CODE HERE\n",
    "        self.fc = YOUR CODE HERE\n",
    "        \n",
    "    def forward(self, x):\n",
    "        x = F.relu(self.conv1(x))\n",
    "        x = YOUR CODE HERE\n",
    "        x = YOUR CODE HERE\n",
    "        x = YOUR CODE HERE\n",
    "        x = F.sigmoid(YOUR CODE HERE)\n",
    "        return x"
   ]
  },
  {
   "cell_type": "code",
   "execution_count": null,
   "metadata": {
    "collapsed": true
   },
   "outputs": [],
   "source": [
    "# print the network structure\n",
    "# Using a GPU is highly recommended since training will take a while otherwise\n",
    "net = Net().cuda()\n",
    "print(net)"
   ]
  },
  {
   "cell_type": "markdown",
   "metadata": {},
   "source": [
    "<b>[5 points]</b> Create a function that trains the network using the provided data. However it should only train the part of the network that is passed in as a parameter.\n",
    "1. Training data must be randomly sampled to obtain a batch of data which is a subset of the whole training dataset at every iteration.\n",
    "2. Use the Adam optimizer and BCELoss function (Binary Cross Entropy Loss).\n",
    "3. Store the loss as well as the accuracy of the network on the training data at every iteration and return them in arrays at the end."
   ]
  },
  {
   "cell_type": "code",
   "execution_count": 33,
   "metadata": {
    "collapsed": true
   },
   "outputs": [],
   "source": [
    "# to_train can be net.paramaters OR net.fc.parameters OR net.conv1.parameters so that only certain parts of the net are trained\n",
    "def train(tdata,tlabel,to_train):\n",
    "    criterion = YOUR CODE HERE\n",
    "    losslist = []\n",
    "    acc = []\n",
    "    epochs = YOUR CODE HERE\n",
    "    batch = YOUR CODE HERE\n",
    "    learning_rate = YOUR CODE HERE\n",
    "    optimizer = YOUR CODE HERE\n",
    "    for k in tqdm(range(epochs)):\n",
    "        for l in range(int(len(tdata)/batch)):\n",
    "            inds = np.random.randint(0,len(tdata)-1,batch)\n",
    "            inputs = Variable(torch.FloatTensor(tdata[inds]).cuda())\n",
    "            targets = Variable(torch.FloatTensor(tlabel[inds]).cuda())\n",
    "            optimizer.zero_grad()\n",
    "            prediction = YOUR CODE HERE\n",
    "            loss = YOUR CODE HERE\n",
    "            loss.backward()\n",
    "            optimizer.step()\n",
    "            losslist.append(loss.data.cpu().numpy())\n",
    "            acc.append(np.mean(np.argmax(prediction.data.cpu().numpy(),1)==np.argmax(tlabel[inds],1)))\n",
    "\n",
    "    return losslist,acc"
   ]
  },
  {
   "cell_type": "markdown",
   "metadata": {},
   "source": [
    "<b>[5 points]</b> Initialize the network, train the complete network (net.parameters) on data1 (the first 5 classes) and plot the loss and accuracy vs iterations on the same graph. Print the final loss and accuracy as well. Set the learning rate, number of iterations and batch size such that the loss is gradually and smoothly decreasing and converging. The accuracy at the end of training must be at least 35 %. Suggested parameters are: batch size greater than 300, learning rate in the order of 1e-5 and at least 100 iterations for these parameters."
   ]
  },
  {
   "cell_type": "code",
   "execution_count": null,
   "metadata": {},
   "outputs": [],
   "source": [
    "# Initialize net\n",
    "net = Net().cuda()\n",
    "x1,a1 = train(YOUR CODE HERE)\n",
    "ax = range(len(x1))\n",
    "plt.plot(ax,x1,ax,a1)\n",
    "plt.show()\n",
    "print(x1[-1])\n",
    "print(a1[-1])"
   ]
  },
  {
   "cell_type": "markdown",
   "metadata": {},
   "source": [
    "<b>[2 points]</b> Without reinitializing the network, train only the fully connected layer (net.fc.parameters) now on data2 (the next 5 classes). Do not change any hyper parameters such as learning rate or batch size. Plot the loss and accuracy and print the final values like before."
   ]
  },
  {
   "cell_type": "code",
   "execution_count": null,
   "metadata": {},
   "outputs": [],
   "source": [
    "x2,a2 = train(YOUR CODE HERE)\n",
    "ax = range(len(x2))\n",
    "plt.plot(ax,x2,ax,a2)\n",
    "plt.show()\n",
    "print(x2[-1])\n",
    "print(a2[-1])"
   ]
  },
  {
   "cell_type": "markdown",
   "metadata": {},
   "source": [
    "<b>[3 points]</b> Now repeat the process in the opposite order. Initialize the net again, train the whole network on data2, generate the same plots as before, and then without reinitializing the net, train only the fully connected layer on data1 and generate the plots. Do not change any hyperparameters."
   ]
  },
  {
   "cell_type": "code",
   "execution_count": null,
   "metadata": {},
   "outputs": [],
   "source": [
    "# Initialize net\n",
    "net = Net().cuda()\n",
    "x3,a3 = train(YOUR CODE HERE)\n",
    "ax = range(len(x3))\n",
    "plt.plot(ax,x3,ax,a3)\n",
    "plt.show()\n",
    "print(x3[-1])\n",
    "print(a3[-1])"
   ]
  },
  {
   "cell_type": "code",
   "execution_count": null,
   "metadata": {},
   "outputs": [],
   "source": [
    "x4,a4 = train(YOUR CODE HERE)\n",
    "ax = range(len(x4))\n",
    "plt.plot(ax,x4,ax,a4)\n",
    "plt.show()\n",
    "print(x4[-1])\n",
    "print(a4[-1])"
   ]
  },
  {
   "cell_type": "markdown",
   "metadata": {},
   "source": [
    "<b>[5 points]</b> Plot the loss vs iterations graphs obtained in the previous 4 training operations on the same graph, to visualize the effects of transfer learning. Explain the results obtained, based on the training regimen. Comment on the performance of transfer learning in each setting."
   ]
  },
  {
   "cell_type": "code",
   "execution_count": null,
   "metadata": {},
   "outputs": [],
   "source": [
    "ax = range(len(x1))\n",
    "plt.plot(ax,x1,ax,x3,ax,x2,ax,x4)\n",
    "plt.legend(['random init 1','random init 2','transfer learning 1','transfer learning 2'])\n",
    "plt.show()"
   ]
  },
  {
   "cell_type": "markdown",
   "metadata": {},
   "source": [
    "<b>[0 points]</b> Create a network with more layers, pooling layers, and more filters and try to increase accuracy as much as possible. Play around with the hyperparameters to understand how they affect the training process. No need to submit anything for this part."
   ]
  },
  {
   "cell_type": "code",
   "execution_count": null,
   "metadata": {
    "collapsed": true
   },
   "outputs": [],
   "source": []
  }
 ],
 "metadata": {
  "kernelspec": {
   "display_name": "Python 3",
   "language": "python",
   "name": "python3"
  },
  "language_info": {
   "codemirror_mode": {
    "name": "ipython",
    "version": 3
   },
   "file_extension": ".py",
   "mimetype": "text/x-python",
   "name": "python",
   "nbconvert_exporter": "python",
   "pygments_lexer": "ipython3",
   "version": "3.6.5"
  }
 },
 "nbformat": 4,
 "nbformat_minor": 2
}
